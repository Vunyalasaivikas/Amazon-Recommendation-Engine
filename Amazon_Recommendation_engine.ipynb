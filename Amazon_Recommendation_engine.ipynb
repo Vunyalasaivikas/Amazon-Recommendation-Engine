{
 "cells": [
  {
   "cell_type": "code",
   "execution_count": 1,
   "id": "99483e74",
   "metadata": {},
   "outputs": [],
   "source": [
    "import pandas as pd\n",
    "import numpy as np\n",
    "import seaborn as sns\n",
    "from matplotlib import pyplot as plt\n",
    "import warnings\n",
    "import os\n",
    "import importlib\n",
    "warnings.filterwarnings('ignore')\n",
    "sns.set_theme(color_codes=True)"
   ]
  },
  {
   "cell_type": "code",
   "execution_count": 2,
   "id": "d046f6a1",
   "metadata": {},
   "outputs": [],
   "source": [
    "df= pd.read_csv('ratings_Electronics.csv', names=['userId', 'productId','rating','timestamp'])"
   ]
  },
  {
   "cell_type": "code",
   "execution_count": 3,
   "id": "0a5f7eb0",
   "metadata": {},
   "outputs": [
    {
     "data": {
      "text/plain": [
       "(7824482, 4)"
      ]
     },
     "execution_count": 3,
     "metadata": {},
     "output_type": "execute_result"
    }
   ],
   "source": [
    "df.shape"
   ]
  },
  {
   "cell_type": "code",
   "execution_count": 4,
   "id": "588f46e4",
   "metadata": {},
   "outputs": [
    {
     "data": {
      "text/plain": [
       "Index(['userId', 'productId', 'rating', 'timestamp'], dtype='object')"
      ]
     },
     "execution_count": 4,
     "metadata": {},
     "output_type": "execute_result"
    }
   ],
   "source": [
    "df.columns"
   ]
  },
  {
   "cell_type": "markdown",
   "id": "f585e37d",
   "metadata": {},
   "source": [
    "# Data set is huge taking random 20% of sample data"
   ]
  },
  {
   "cell_type": "code",
   "execution_count": 5,
   "id": "f68ee85f",
   "metadata": {},
   "outputs": [],
   "source": [
    "electronics_data=df.sample(n=1564896,ignore_index=True)"
   ]
  },
  {
   "cell_type": "code",
   "execution_count": 6,
   "id": "2ae2e1b2",
   "metadata": {},
   "outputs": [],
   "source": [
    "#after taking sample data, drop df to free the memory occupied by entire dataframe\n",
    "del df"
   ]
  },
  {
   "cell_type": "code",
   "execution_count": 7,
   "id": "5865fe0c",
   "metadata": {},
   "outputs": [
    {
     "data": {
      "text/html": [
       "<div>\n",
       "<style scoped>\n",
       "    .dataframe tbody tr th:only-of-type {\n",
       "        vertical-align: middle;\n",
       "    }\n",
       "\n",
       "    .dataframe tbody tr th {\n",
       "        vertical-align: top;\n",
       "    }\n",
       "\n",
       "    .dataframe thead th {\n",
       "        text-align: right;\n",
       "    }\n",
       "</style>\n",
       "<table border=\"1\" class=\"dataframe\">\n",
       "  <thead>\n",
       "    <tr style=\"text-align: right;\">\n",
       "      <th></th>\n",
       "      <th>userId</th>\n",
       "      <th>productId</th>\n",
       "      <th>rating</th>\n",
       "      <th>timestamp</th>\n",
       "    </tr>\n",
       "  </thead>\n",
       "  <tbody>\n",
       "    <tr>\n",
       "      <th>0</th>\n",
       "      <td>A1Z3DZYBKUVJZ6</td>\n",
       "      <td>B00F4A8FQM</td>\n",
       "      <td>4.0</td>\n",
       "      <td>1401840000</td>\n",
       "    </tr>\n",
       "    <tr>\n",
       "      <th>1</th>\n",
       "      <td>A3RSUNV4S5AEXT</td>\n",
       "      <td>B002L6HE9G</td>\n",
       "      <td>2.0</td>\n",
       "      <td>1349222400</td>\n",
       "    </tr>\n",
       "    <tr>\n",
       "      <th>2</th>\n",
       "      <td>A3GEBOTSI9N65</td>\n",
       "      <td>B005OFFH5Y</td>\n",
       "      <td>4.0</td>\n",
       "      <td>1378339200</td>\n",
       "    </tr>\n",
       "    <tr>\n",
       "      <th>3</th>\n",
       "      <td>AM2NJ7CSXQWP3</td>\n",
       "      <td>B002JPITXY</td>\n",
       "      <td>5.0</td>\n",
       "      <td>1286236800</td>\n",
       "    </tr>\n",
       "    <tr>\n",
       "      <th>4</th>\n",
       "      <td>A37F835I88ZZXF</td>\n",
       "      <td>B009X3UW2G</td>\n",
       "      <td>5.0</td>\n",
       "      <td>1367625600</td>\n",
       "    </tr>\n",
       "  </tbody>\n",
       "</table>\n",
       "</div>"
      ],
      "text/plain": [
       "           userId   productId  rating   timestamp\n",
       "0  A1Z3DZYBKUVJZ6  B00F4A8FQM     4.0  1401840000\n",
       "1  A3RSUNV4S5AEXT  B002L6HE9G     2.0  1349222400\n",
       "2   A3GEBOTSI9N65  B005OFFH5Y     4.0  1378339200\n",
       "3   AM2NJ7CSXQWP3  B002JPITXY     5.0  1286236800\n",
       "4  A37F835I88ZZXF  B009X3UW2G     5.0  1367625600"
      ]
     },
     "execution_count": 7,
     "metadata": {},
     "output_type": "execute_result"
    }
   ],
   "source": [
    "electronics_data.head()"
   ]
  },
  {
   "cell_type": "code",
   "execution_count": 8,
   "id": "da1e089e",
   "metadata": {},
   "outputs": [
    {
     "name": "stdout",
     "output_type": "stream",
     "text": [
      "<class 'pandas.core.frame.DataFrame'>\n",
      "RangeIndex: 1564896 entries, 0 to 1564895\n",
      "Data columns (total 4 columns):\n",
      " #   Column     Non-Null Count    Dtype  \n",
      "---  ------     --------------    -----  \n",
      " 0   userId     1564896 non-null  object \n",
      " 1   productId  1564896 non-null  object \n",
      " 2   rating     1564896 non-null  float64\n",
      " 3   timestamp  1564896 non-null  int64  \n",
      "dtypes: float64(1), int64(1), object(2)\n",
      "memory usage: 47.8+ MB\n"
     ]
    }
   ],
   "source": [
    "#print the concise information of the dataset\n",
    "electronics_data.info()"
   ]
  },
  {
   "cell_type": "markdown",
   "id": "5aeeee1e",
   "metadata": {},
   "source": [
    "# Droping column 'timestamp' coz, it has no use in prediction"
   ]
  },
  {
   "cell_type": "code",
   "execution_count": 9,
   "id": "7f40377b",
   "metadata": {},
   "outputs": [],
   "source": [
    "if 'timestamp' in electronics_data.columns:\n",
    "    electronics_data.drop('timestamp', axis=1, inplace=True)\n",
    "else:\n",
    "    print(\"Column 'timestamp' does not exist.\")"
   ]
  },
  {
   "cell_type": "code",
   "execution_count": 10,
   "id": "f753f869",
   "metadata": {},
   "outputs": [
    {
     "data": {
      "text/html": [
       "<div>\n",
       "<style scoped>\n",
       "    .dataframe tbody tr th:only-of-type {\n",
       "        vertical-align: middle;\n",
       "    }\n",
       "\n",
       "    .dataframe tbody tr th {\n",
       "        vertical-align: top;\n",
       "    }\n",
       "\n",
       "    .dataframe thead th {\n",
       "        text-align: right;\n",
       "    }\n",
       "</style>\n",
       "<table border=\"1\" class=\"dataframe\">\n",
       "  <thead>\n",
       "    <tr style=\"text-align: right;\">\n",
       "      <th></th>\n",
       "      <th>rating</th>\n",
       "    </tr>\n",
       "  </thead>\n",
       "  <tbody>\n",
       "    <tr>\n",
       "      <th>count</th>\n",
       "      <td>1.564896e+06</td>\n",
       "    </tr>\n",
       "    <tr>\n",
       "      <th>mean</th>\n",
       "      <td>4.012140e+00</td>\n",
       "    </tr>\n",
       "    <tr>\n",
       "      <th>std</th>\n",
       "      <td>1.380183e+00</td>\n",
       "    </tr>\n",
       "    <tr>\n",
       "      <th>min</th>\n",
       "      <td>1.000000e+00</td>\n",
       "    </tr>\n",
       "    <tr>\n",
       "      <th>25%</th>\n",
       "      <td>3.000000e+00</td>\n",
       "    </tr>\n",
       "    <tr>\n",
       "      <th>50%</th>\n",
       "      <td>5.000000e+00</td>\n",
       "    </tr>\n",
       "    <tr>\n",
       "      <th>75%</th>\n",
       "      <td>5.000000e+00</td>\n",
       "    </tr>\n",
       "    <tr>\n",
       "      <th>max</th>\n",
       "      <td>5.000000e+00</td>\n",
       "    </tr>\n",
       "  </tbody>\n",
       "</table>\n",
       "</div>"
      ],
      "text/plain": [
       "             rating\n",
       "count  1.564896e+06\n",
       "mean   4.012140e+00\n",
       "std    1.380183e+00\n",
       "min    1.000000e+00\n",
       "25%    3.000000e+00\n",
       "50%    5.000000e+00\n",
       "75%    5.000000e+00\n",
       "max    5.000000e+00"
      ]
     },
     "execution_count": 10,
     "metadata": {},
     "output_type": "execute_result"
    }
   ],
   "source": [
    "electronics_data.describe()"
   ]
  },
  {
   "cell_type": "markdown",
   "id": "dcf6f4ab",
   "metadata": {},
   "source": [
    "As we can see minimum rating of the products is 1 , maximum rating is 5 and average rating of the products is around 4"
   ]
  },
  {
   "cell_type": "code",
   "execution_count": 11,
   "id": "6a4eed60",
   "metadata": {},
   "outputs": [
    {
     "data": {
      "text/plain": [
       "userId       0\n",
       "productId    0\n",
       "rating       0\n",
       "dtype: int64"
      ]
     },
     "execution_count": 11,
     "metadata": {},
     "output_type": "execute_result"
    }
   ],
   "source": [
    "#handle missing values\n",
    "electronics_data.isnull().sum()"
   ]
  },
  {
   "cell_type": "code",
   "execution_count": 12,
   "id": "e10f159b",
   "metadata": {},
   "outputs": [
    {
     "data": {
      "text/plain": [
       "0"
      ]
     },
     "execution_count": 12,
     "metadata": {},
     "output_type": "execute_result"
    }
   ],
   "source": [
    "#handling duplicate records\n",
    "electronics_data[electronics_data.duplicated()].shape[0]"
   ]
  },
  {
   "cell_type": "code",
   "execution_count": 13,
   "id": "3c451748",
   "metadata": {},
   "outputs": [
    {
     "data": {
      "text/html": [
       "<div>\n",
       "<style scoped>\n",
       "    .dataframe tbody tr th:only-of-type {\n",
       "        vertical-align: middle;\n",
       "    }\n",
       "\n",
       "    .dataframe tbody tr th {\n",
       "        vertical-align: top;\n",
       "    }\n",
       "\n",
       "    .dataframe thead th {\n",
       "        text-align: right;\n",
       "    }\n",
       "</style>\n",
       "<table border=\"1\" class=\"dataframe\">\n",
       "  <thead>\n",
       "    <tr style=\"text-align: right;\">\n",
       "      <th></th>\n",
       "      <th>userId</th>\n",
       "      <th>productId</th>\n",
       "      <th>rating</th>\n",
       "    </tr>\n",
       "  </thead>\n",
       "  <tbody>\n",
       "    <tr>\n",
       "      <th>0</th>\n",
       "      <td>A1Z3DZYBKUVJZ6</td>\n",
       "      <td>B00F4A8FQM</td>\n",
       "      <td>4.0</td>\n",
       "    </tr>\n",
       "    <tr>\n",
       "      <th>1</th>\n",
       "      <td>A3RSUNV4S5AEXT</td>\n",
       "      <td>B002L6HE9G</td>\n",
       "      <td>2.0</td>\n",
       "    </tr>\n",
       "    <tr>\n",
       "      <th>2</th>\n",
       "      <td>A3GEBOTSI9N65</td>\n",
       "      <td>B005OFFH5Y</td>\n",
       "      <td>4.0</td>\n",
       "    </tr>\n",
       "    <tr>\n",
       "      <th>3</th>\n",
       "      <td>AM2NJ7CSXQWP3</td>\n",
       "      <td>B002JPITXY</td>\n",
       "      <td>5.0</td>\n",
       "    </tr>\n",
       "    <tr>\n",
       "      <th>4</th>\n",
       "      <td>A37F835I88ZZXF</td>\n",
       "      <td>B009X3UW2G</td>\n",
       "      <td>5.0</td>\n",
       "    </tr>\n",
       "  </tbody>\n",
       "</table>\n",
       "</div>"
      ],
      "text/plain": [
       "           userId   productId  rating\n",
       "0  A1Z3DZYBKUVJZ6  B00F4A8FQM     4.0\n",
       "1  A3RSUNV4S5AEXT  B002L6HE9G     2.0\n",
       "2   A3GEBOTSI9N65  B005OFFH5Y     4.0\n",
       "3   AM2NJ7CSXQWP3  B002JPITXY     5.0\n",
       "4  A37F835I88ZZXF  B009X3UW2G     5.0"
      ]
     },
     "execution_count": 13,
     "metadata": {},
     "output_type": "execute_result"
    }
   ],
   "source": [
    "electronics_data.head()"
   ]
  },
  {
   "cell_type": "code",
   "execution_count": 14,
   "id": "ab836cfe",
   "metadata": {},
   "outputs": [
    {
     "data": {
      "image/png": "[encoded data removed]",
      "text/plain": [
       "<Figure size 800x400 with 1 Axes>"
      ]
     },
     "metadata": {},
     "output_type": "display_data"
    }
   ],
   "source": [
    "plt.figure(figsize=(8,4))\n",
    "sns.countplot(x='rating',data=electronics_data)\n",
    "plt.title('Rating Distribution')\n",
    "plt.xlabel('Rating')\n",
    "plt.ylabel('Count')\n",
    "plt.grid()\n",
    "plt.show()"
   ]
  },
  {
   "cell_type": "markdown",
   "id": "0294f1fa",
   "metadata": {},
   "source": [
    "most of the user have given 5 rating"
   ]
  },
  {
   "cell_type": "code",
   "execution_count": 15,
   "id": "cb7566ee",
   "metadata": {},
   "outputs": [
    {
     "name": "stdout",
     "output_type": "stream",
     "text": [
      "Total rating :  1564896\n",
      "Total unique users :  1225729\n",
      "Total unique products :  237435\n"
     ]
    }
   ],
   "source": [
    "print('Total rating : ',electronics_data.shape[0])\n",
    "print('Total unique users : ',electronics_data['userId'].unique().shape[0])\n",
    "print('Total unique products : ',electronics_data['productId'].unique().shape[0])"
   ]
  },
  {
   "cell_type": "markdown",
   "id": "48ef5678",
   "metadata": {},
   "source": [
    "analyzing the rating by user"
   ]
  },
  {
   "cell_type": "code",
   "execution_count": 16,
   "id": "2a93a4e0",
   "metadata": {},
   "outputs": [
    {
     "data": {
      "text/plain": [
       "userId\n",
       "A5JLAU2ARJ0BO     108\n",
       "A3OXHLG6DIBRW8    107\n",
       "ADLVFFE4VBT8      106\n",
       "A6FIAB28IS79       97\n",
       "A680RUE1FDO8B      88\n",
       "Name: rating, dtype: int64"
      ]
     },
     "execution_count": 16,
     "metadata": {},
     "output_type": "execute_result"
    }
   ],
   "source": [
    "no_of_rated_products_per_user = electronics_data.groupby(by='userId')['rating'].count().sort_values(ascending=False)\n",
    "no_of_rated_products_per_user.head()"
   ]
  },
  {
   "cell_type": "code",
   "execution_count": 17,
   "id": "0f85fc57",
   "metadata": {},
   "outputs": [
    {
     "name": "stdout",
     "output_type": "stream",
     "text": [
      "No of rated product more than 50 per user : 29 \n"
     ]
    }
   ],
   "source": [
    "print('No of rated product more than 50 per user : {} '.format(sum(no_of_rated_products_per_user >= 50)))"
   ]
  },
  {
   "cell_type": "markdown",
   "id": "525ae69f",
   "metadata": {},
   "source": [
    "# Popularity Based Recommendation\n",
    "\n",
    "Popularity based recommendation system works with the trend. It basically uses the items which are in trend right now"
   ]
  },
  {
   "cell_type": "code",
   "execution_count": 18,
   "id": "e89aad37",
   "metadata": {},
   "outputs": [],
   "source": [
    "data=electronics_data.groupby('productId').filter(lambda x:x['rating'].count()>=50)"
   ]
  },
  {
   "cell_type": "code",
   "execution_count": 19,
   "id": "c8874856",
   "metadata": {},
   "outputs": [
    {
     "data": {
      "text/html": [
       "<div>\n",
       "<style scoped>\n",
       "    .dataframe tbody tr th:only-of-type {\n",
       "        vertical-align: middle;\n",
       "    }\n",
       "\n",
       "    .dataframe tbody tr th {\n",
       "        vertical-align: top;\n",
       "    }\n",
       "\n",
       "    .dataframe thead th {\n",
       "        text-align: right;\n",
       "    }\n",
       "</style>\n",
       "<table border=\"1\" class=\"dataframe\">\n",
       "  <thead>\n",
       "    <tr style=\"text-align: right;\">\n",
       "      <th></th>\n",
       "      <th>userId</th>\n",
       "      <th>productId</th>\n",
       "      <th>rating</th>\n",
       "    </tr>\n",
       "  </thead>\n",
       "  <tbody>\n",
       "    <tr>\n",
       "      <th>0</th>\n",
       "      <td>A1Z3DZYBKUVJZ6</td>\n",
       "      <td>B00F4A8FQM</td>\n",
       "      <td>4.0</td>\n",
       "    </tr>\n",
       "    <tr>\n",
       "      <th>1</th>\n",
       "      <td>A3RSUNV4S5AEXT</td>\n",
       "      <td>B002L6HE9G</td>\n",
       "      <td>2.0</td>\n",
       "    </tr>\n",
       "    <tr>\n",
       "      <th>2</th>\n",
       "      <td>A3GEBOTSI9N65</td>\n",
       "      <td>B005OFFH5Y</td>\n",
       "      <td>4.0</td>\n",
       "    </tr>\n",
       "    <tr>\n",
       "      <th>3</th>\n",
       "      <td>AM2NJ7CSXQWP3</td>\n",
       "      <td>B002JPITXY</td>\n",
       "      <td>5.0</td>\n",
       "    </tr>\n",
       "    <tr>\n",
       "      <th>4</th>\n",
       "      <td>A37F835I88ZZXF</td>\n",
       "      <td>B009X3UW2G</td>\n",
       "      <td>5.0</td>\n",
       "    </tr>\n",
       "  </tbody>\n",
       "</table>\n",
       "</div>"
      ],
      "text/plain": [
       "           userId   productId  rating\n",
       "0  A1Z3DZYBKUVJZ6  B00F4A8FQM     4.0\n",
       "1  A3RSUNV4S5AEXT  B002L6HE9G     2.0\n",
       "2   A3GEBOTSI9N65  B005OFFH5Y     4.0\n",
       "3   AM2NJ7CSXQWP3  B002JPITXY     5.0\n",
       "4  A37F835I88ZZXF  B009X3UW2G     5.0"
      ]
     },
     "execution_count": 19,
     "metadata": {},
     "output_type": "execute_result"
    }
   ],
   "source": [
    "data.head()"
   ]
  },
  {
   "cell_type": "code",
   "execution_count": 20,
   "id": "29c73d8a",
   "metadata": {},
   "outputs": [],
   "source": [
    "no_of_rating_per_product=data.groupby('productId')['rating'].count().sort_values(ascending=False)"
   ]
  },
  {
   "cell_type": "code",
   "execution_count": 21,
   "id": "2393eecc",
   "metadata": {},
   "outputs": [
    {
     "data": {
      "text/plain": [
       "productId\n",
       "B0074BW614    3585\n",
       "B00DR0PDNE    3260\n",
       "B007WTAJTO    2876\n",
       "B006GWO5WK    2452\n",
       "B0019EHU8G    2448\n",
       "Name: rating, dtype: int64"
      ]
     },
     "execution_count": 21,
     "metadata": {},
     "output_type": "execute_result"
    }
   ],
   "source": [
    "no_of_rating_per_product.head()"
   ]
  },
  {
   "cell_type": "code",
   "execution_count": 22,
   "id": "3e43f324",
   "metadata": {},
   "outputs": [
    {
     "data": {
      "image/png": "[encoded data removed]",
      "text/plain": [
       "<Figure size 640x480 with 1 Axes>"
      ]
     },
     "metadata": {},
     "output_type": "display_data"
    }
   ],
   "source": [
    "#top 20 product\n",
    "no_of_rating_per_product.head(20).plot(kind='bar')\n",
    "plt.xlabel('Product ID')\n",
    "plt.ylabel('num of rating')\n",
    "plt.title('top 20 procduct')\n",
    "plt.show()"
   ]
  },
  {
   "cell_type": "code",
   "execution_count": 23,
   "id": "c69aa4bb",
   "metadata": {},
   "outputs": [],
   "source": [
    "#average rating product\n",
    "mean_rating_product_count=pd.DataFrame(data.groupby('productId')['rating'].mean())"
   ]
  },
  {
   "cell_type": "code",
   "execution_count": 24,
   "id": "32edb88f",
   "metadata": {},
   "outputs": [
    {
     "data": {
      "text/html": [
       "<div>\n",
       "<style scoped>\n",
       "    .dataframe tbody tr th:only-of-type {\n",
       "        vertical-align: middle;\n",
       "    }\n",
       "\n",
       "    .dataframe tbody tr th {\n",
       "        vertical-align: top;\n",
       "    }\n",
       "\n",
       "    .dataframe thead th {\n",
       "        text-align: right;\n",
       "    }\n",
       "</style>\n",
       "<table border=\"1\" class=\"dataframe\">\n",
       "  <thead>\n",
       "    <tr style=\"text-align: right;\">\n",
       "      <th></th>\n",
       "      <th>rating</th>\n",
       "    </tr>\n",
       "    <tr>\n",
       "      <th>productId</th>\n",
       "      <th></th>\n",
       "    </tr>\n",
       "  </thead>\n",
       "  <tbody>\n",
       "    <tr>\n",
       "      <th>0972683275</th>\n",
       "      <td>4.497797</td>\n",
       "    </tr>\n",
       "    <tr>\n",
       "      <th>1400532655</th>\n",
       "      <td>3.962963</td>\n",
       "    </tr>\n",
       "    <tr>\n",
       "      <th>140053271X</th>\n",
       "      <td>3.747126</td>\n",
       "    </tr>\n",
       "    <tr>\n",
       "      <th>B00000DM9W</th>\n",
       "      <td>4.548387</td>\n",
       "    </tr>\n",
       "    <tr>\n",
       "      <th>B00000J061</th>\n",
       "      <td>4.129630</td>\n",
       "    </tr>\n",
       "  </tbody>\n",
       "</table>\n",
       "</div>"
      ],
      "text/plain": [
       "              rating\n",
       "productId           \n",
       "0972683275  4.497797\n",
       "1400532655  3.962963\n",
       "140053271X  3.747126\n",
       "B00000DM9W  4.548387\n",
       "B00000J061  4.129630"
      ]
     },
     "execution_count": 24,
     "metadata": {},
     "output_type": "execute_result"
    }
   ],
   "source": [
    "mean_rating_product_count.head()"
   ]
  },
  {
   "cell_type": "code",
   "execution_count": 25,
   "id": "c3cf2750",
   "metadata": {},
   "outputs": [
    {
     "data": {
      "image/png": "[encoded data removed]",
      "text/plain": [
       "<Figure size 640x480 with 1 Axes>"
      ]
     },
     "metadata": {},
     "output_type": "display_data"
    }
   ],
   "source": [
    "#plot the rating distribution of average rating product\n",
    "plt.hist(mean_rating_product_count['rating'],bins=100)\n",
    "plt.title('Mean Rating distribution')\n",
    "plt.show()"
   ]
  },
  {
   "cell_type": "code",
   "execution_count": 26,
   "id": "ce6070ac",
   "metadata": {},
   "outputs": [
    {
     "data": {
      "text/plain": [
       "-0.9124924488204319"
      ]
     },
     "execution_count": 26,
     "metadata": {},
     "output_type": "execute_result"
    }
   ],
   "source": [
    "#check the skewness of the mean rating data\n",
    "mean_rating_product_count['rating'].skew()"
   ]
  },
  {
   "cell_type": "markdown",
   "id": "49d77398",
   "metadata": {},
   "source": [
    "it is highly negative skewed"
   ]
  },
  {
   "cell_type": "code",
   "execution_count": 27,
   "id": "c0678687",
   "metadata": {},
   "outputs": [],
   "source": [
    "mean_rating_product_count['rating_counts'] = pd.DataFrame(data.groupby('productId')['rating'].count())"
   ]
  },
  {
   "cell_type": "code",
   "execution_count": 28,
   "id": "ac9b0921",
   "metadata": {},
   "outputs": [
    {
     "data": {
      "text/html": [
       "<div>\n",
       "<style scoped>\n",
       "    .dataframe tbody tr th:only-of-type {\n",
       "        vertical-align: middle;\n",
       "    }\n",
       "\n",
       "    .dataframe tbody tr th {\n",
       "        vertical-align: top;\n",
       "    }\n",
       "\n",
       "    .dataframe thead th {\n",
       "        text-align: right;\n",
       "    }\n",
       "</style>\n",
       "<table border=\"1\" class=\"dataframe\">\n",
       "  <thead>\n",
       "    <tr style=\"text-align: right;\">\n",
       "      <th></th>\n",
       "      <th>rating</th>\n",
       "      <th>rating_counts</th>\n",
       "    </tr>\n",
       "    <tr>\n",
       "      <th>productId</th>\n",
       "      <th></th>\n",
       "      <th></th>\n",
       "    </tr>\n",
       "  </thead>\n",
       "  <tbody>\n",
       "    <tr>\n",
       "      <th>0972683275</th>\n",
       "      <td>4.497797</td>\n",
       "      <td>227</td>\n",
       "    </tr>\n",
       "    <tr>\n",
       "      <th>1400532655</th>\n",
       "      <td>3.962963</td>\n",
       "      <td>108</td>\n",
       "    </tr>\n",
       "    <tr>\n",
       "      <th>140053271X</th>\n",
       "      <td>3.747126</td>\n",
       "      <td>87</td>\n",
       "    </tr>\n",
       "    <tr>\n",
       "      <th>B00000DM9W</th>\n",
       "      <td>4.548387</td>\n",
       "      <td>62</td>\n",
       "    </tr>\n",
       "    <tr>\n",
       "      <th>B00000J061</th>\n",
       "      <td>4.129630</td>\n",
       "      <td>54</td>\n",
       "    </tr>\n",
       "  </tbody>\n",
       "</table>\n",
       "</div>"
      ],
      "text/plain": [
       "              rating  rating_counts\n",
       "productId                          \n",
       "0972683275  4.497797            227\n",
       "1400532655  3.962963            108\n",
       "140053271X  3.747126             87\n",
       "B00000DM9W  4.548387             62\n",
       "B00000J061  4.129630             54"
      ]
     },
     "execution_count": 28,
     "metadata": {},
     "output_type": "execute_result"
    }
   ],
   "source": [
    "mean_rating_product_count.head()"
   ]
  },
  {
   "cell_type": "code",
   "execution_count": 29,
   "id": "a4b27fb4",
   "metadata": {},
   "outputs": [
    {
     "data": {
      "text/html": [
       "<div>\n",
       "<style scoped>\n",
       "    .dataframe tbody tr th:only-of-type {\n",
       "        vertical-align: middle;\n",
       "    }\n",
       "\n",
       "    .dataframe tbody tr th {\n",
       "        vertical-align: top;\n",
       "    }\n",
       "\n",
       "    .dataframe thead th {\n",
       "        text-align: right;\n",
       "    }\n",
       "</style>\n",
       "<table border=\"1\" class=\"dataframe\">\n",
       "  <thead>\n",
       "    <tr style=\"text-align: right;\">\n",
       "      <th></th>\n",
       "      <th>rating</th>\n",
       "      <th>rating_counts</th>\n",
       "    </tr>\n",
       "    <tr>\n",
       "      <th>productId</th>\n",
       "      <th></th>\n",
       "      <th></th>\n",
       "    </tr>\n",
       "  </thead>\n",
       "  <tbody>\n",
       "    <tr>\n",
       "      <th>B0074BW614</th>\n",
       "      <td>4.467782</td>\n",
       "      <td>3585</td>\n",
       "    </tr>\n",
       "  </tbody>\n",
       "</table>\n",
       "</div>"
      ],
      "text/plain": [
       "              rating  rating_counts\n",
       "productId                          \n",
       "B0074BW614  4.467782           3585"
      ]
     },
     "execution_count": 29,
     "metadata": {},
     "output_type": "execute_result"
    }
   ],
   "source": [
    "#highest mean rating product\n",
    "mean_rating_product_count[mean_rating_product_count['rating_counts']==mean_rating_product_count['rating_counts'].max()]"
   ]
  },
  {
   "cell_type": "code",
   "execution_count": 30,
   "id": "75ceec32",
   "metadata": {},
   "outputs": [
    {
     "name": "stdout",
     "output_type": "stream",
     "text": [
      "min average rating product :  50\n",
      "total min average rating products :  128\n"
     ]
    }
   ],
   "source": [
    "#min mean rating product\n",
    "print('min average rating product : ',mean_rating_product_count['rating_counts'].min())\n",
    "print('total min average rating products : ',mean_rating_product_count[mean_rating_product_count['rating_counts']==mean_rating_product_count['rating_counts'].min()].shape[0])"
   ]
  },
  {
   "cell_type": "code",
   "execution_count": 31,
   "id": "0d00b40d",
   "metadata": {},
   "outputs": [
    {
     "data": {
      "image/png": "[encoded data removed]",
      "text/plain": [
       "<Figure size 640x480 with 1 Axes>"
      ]
     },
     "metadata": {},
     "output_type": "display_data"
    }
   ],
   "source": [
    "#plot the rating count of mean_rating_product_count\n",
    "plt.hist(mean_rating_product_count['rating_counts'],bins=100)\n",
    "plt.title('rating count distribution')\n",
    "plt.show()"
   ]
  },
  {
   "cell_type": "code",
   "execution_count": 32,
   "id": "012a4187",
   "metadata": {},
   "outputs": [
    {
     "data": {
      "image/png": "[encoded data removed]",
      "text/plain": [
       "<Figure size 600x600 with 3 Axes>"
      ]
     },
     "metadata": {},
     "output_type": "display_data"
    }
   ],
   "source": [
    "#joint plot of rating and rating counts\n",
    "sns.jointplot(x='rating',y='rating_counts',data=mean_rating_product_count)\n",
    "plt.title('Joint Plot of rating and rating counts')\n",
    "plt.tight_layout()\n",
    "plt.show()"
   ]
  },
  {
   "cell_type": "code",
   "execution_count": 33,
   "id": "27050aa7",
   "metadata": {},
   "outputs": [
    {
     "data": {
      "image/png": "[encoded data removed]",
      "text/plain": [
       "<Figure size 640x480 with 1 Axes>"
      ]
     },
     "metadata": {},
     "output_type": "display_data"
    }
   ],
   "source": [
    "plt.scatter(x=mean_rating_product_count['rating'],y=mean_rating_product_count['rating_counts'])\n",
    "plt.show()"
   ]
  },
  {
   "cell_type": "code",
   "execution_count": 34,
   "id": "00025a10",
   "metadata": {},
   "outputs": [
    {
     "name": "stdout",
     "output_type": "stream",
     "text": [
      "Correlation between Rating and Rating Counts is : 0.11341994593015134 \n"
     ]
    }
   ],
   "source": [
    "print('Correlation between Rating and Rating Counts is : {} '.format(mean_rating_product_count['rating'].corr(mean_rating_product_count['rating_counts'])))"
   ]
  },
  {
   "cell_type": "markdown",
   "id": "e6b0ca97",
   "metadata": {},
   "source": [
    "# Collaberative filtering (Item-Item recommedation)\n",
    "\n",
    "Collaborative filtering is commonly used for recommender systems"
   ]
  },
  {
   "cell_type": "code",
   "execution_count": 37,
   "id": "be560f9a",
   "metadata": {},
   "outputs": [],
   "source": [
    "from surprise import KNNWithMeans\n",
    "from surprise import Dataset\n",
    "from surprise import accuracy\n",
    "from surprise import Reader\n",
    "from surprise.model_selection import train_test_split"
   ]
  },
  {
   "cell_type": "code",
   "execution_count": 38,
   "id": "b9fe1f37",
   "metadata": {},
   "outputs": [],
   "source": [
    "#Reading the dataset\n",
    "reader = Reader(rating_scale=(1, 5))\n",
    "surprise_data = Dataset.load_from_df(data,reader)"
   ]
  },
  {
   "cell_type": "code",
   "execution_count": 39,
   "id": "ced030b0",
   "metadata": {},
   "outputs": [],
   "source": [
    "#Splitting surprise the dataset into 80,20 ratio using train_test_split\n",
    "trainset, testset = train_test_split(surprise_data, test_size=0.3,random_state=42)"
   ]
  },
  {
   "cell_type": "code",
   "execution_count": 40,
   "id": "5aca3e68",
   "metadata": {},
   "outputs": [
    {
     "name": "stdout",
     "output_type": "stream",
     "text": [
      "Estimating biases using als...\n",
      "Computing the pearson_baseline similarity matrix...\n",
      "Done computing similarity matrix.\n"
     ]
    },
    {
     "data": {
      "text/plain": [
       "<surprise.prediction_algorithms.knns.KNNWithMeans at 0x2114fb068d0>"
      ]
     },
     "execution_count": 40,
     "metadata": {},
     "output_type": "execute_result"
    }
   ],
   "source": [
    "# Use user_based true/false to switch between user-based or item-based collaborative filtering\n",
    "algo = KNNWithMeans(k=5, sim_options={'name': 'pearson_baseline', 'user_based': False})\n",
    "algo.fit(trainset)"
   ]
  },
  {
   "cell_type": "code",
   "execution_count": 41,
   "id": "f75345b6",
   "metadata": {},
   "outputs": [],
   "source": [
    "#make prediction using testset\n",
    "test_pred=algo.test(testset)"
   ]
  },
  {
   "cell_type": "code",
   "execution_count": 42,
   "id": "cfc89cd6",
   "metadata": {},
   "outputs": [
    {
     "name": "stdout",
     "output_type": "stream",
     "text": [
      "Item-based Model : Test Set\n",
      "RMSE: 1.3045\n"
     ]
    },
    {
     "data": {
      "text/plain": [
       "1.3045193794015988"
      ]
     },
     "execution_count": 42,
     "metadata": {},
     "output_type": "execute_result"
    }
   ],
   "source": [
    "#print RMSE\n",
    "print(\"Item-based Model : Test Set\")\n",
    "accuracy.rmse(test_pred ,verbose=True)"
   ]
  },
  {
   "cell_type": "markdown",
   "id": "66d5a8d9",
   "metadata": {},
   "source": [
    "# Model-based collaborative filtering system\n",
    "\n",
    "These methods are based on machine learning and data mining techniques"
   ]
  },
  {
   "cell_type": "code",
   "execution_count": 43,
   "id": "fb321da1",
   "metadata": {},
   "outputs": [
    {
     "data": {
      "text/html": [
       "<div>\n",
       "<style scoped>\n",
       "    .dataframe tbody tr th:only-of-type {\n",
       "        vertical-align: middle;\n",
       "    }\n",
       "\n",
       "    .dataframe tbody tr th {\n",
       "        vertical-align: top;\n",
       "    }\n",
       "\n",
       "    .dataframe thead th {\n",
       "        text-align: right;\n",
       "    }\n",
       "</style>\n",
       "<table border=\"1\" class=\"dataframe\">\n",
       "  <thead>\n",
       "    <tr style=\"text-align: right;\">\n",
       "      <th>productId</th>\n",
       "      <th>0972683275</th>\n",
       "      <th>1400532655</th>\n",
       "      <th>140053271X</th>\n",
       "      <th>B00000DM9W</th>\n",
       "      <th>B00000J061</th>\n",
       "      <th>B00000J1V5</th>\n",
       "      <th>B00000JDF5</th>\n",
       "      <th>B00000JI4F</th>\n",
       "      <th>B00000K135</th>\n",
       "      <th>B00000K2YR</th>\n",
       "      <th>...</th>\n",
       "      <th>B00I2VIR2M</th>\n",
       "      <th>B00I2ZBD1U</th>\n",
       "      <th>B00I94IPTW</th>\n",
       "      <th>B00I9K3ZQ4</th>\n",
       "      <th>B00IDG3IDO</th>\n",
       "      <th>B00IF70QCW</th>\n",
       "      <th>B00IGISO9C</th>\n",
       "      <th>B00INNP5VU</th>\n",
       "      <th>B00IO1V33U</th>\n",
       "      <th>B00IVPU786</th>\n",
       "    </tr>\n",
       "    <tr>\n",
       "      <th>userId</th>\n",
       "      <th></th>\n",
       "      <th></th>\n",
       "      <th></th>\n",
       "      <th></th>\n",
       "      <th></th>\n",
       "      <th></th>\n",
       "      <th></th>\n",
       "      <th></th>\n",
       "      <th></th>\n",
       "      <th></th>\n",
       "      <th></th>\n",
       "      <th></th>\n",
       "      <th></th>\n",
       "      <th></th>\n",
       "      <th></th>\n",
       "      <th></th>\n",
       "      <th></th>\n",
       "      <th></th>\n",
       "      <th></th>\n",
       "      <th></th>\n",
       "      <th></th>\n",
       "    </tr>\n",
       "  </thead>\n",
       "  <tbody>\n",
       "    <tr>\n",
       "      <th>A01682761RQSOIBP1TBDQ</th>\n",
       "      <td>0</td>\n",
       "      <td>0</td>\n",
       "      <td>0</td>\n",
       "      <td>0</td>\n",
       "      <td>0</td>\n",
       "      <td>0</td>\n",
       "      <td>0</td>\n",
       "      <td>0</td>\n",
       "      <td>0</td>\n",
       "      <td>0</td>\n",
       "      <td>...</td>\n",
       "      <td>0</td>\n",
       "      <td>0</td>\n",
       "      <td>0</td>\n",
       "      <td>0</td>\n",
       "      <td>0</td>\n",
       "      <td>0</td>\n",
       "      <td>0</td>\n",
       "      <td>0</td>\n",
       "      <td>0</td>\n",
       "      <td>0</td>\n",
       "    </tr>\n",
       "    <tr>\n",
       "      <th>A0315967143HDB8UXWN72</th>\n",
       "      <td>0</td>\n",
       "      <td>0</td>\n",
       "      <td>0</td>\n",
       "      <td>0</td>\n",
       "      <td>0</td>\n",
       "      <td>0</td>\n",
       "      <td>0</td>\n",
       "      <td>0</td>\n",
       "      <td>0</td>\n",
       "      <td>0</td>\n",
       "      <td>...</td>\n",
       "      <td>0</td>\n",
       "      <td>0</td>\n",
       "      <td>0</td>\n",
       "      <td>0</td>\n",
       "      <td>0</td>\n",
       "      <td>0</td>\n",
       "      <td>0</td>\n",
       "      <td>0</td>\n",
       "      <td>0</td>\n",
       "      <td>0</td>\n",
       "    </tr>\n",
       "    <tr>\n",
       "      <th>A0611551KU79JNSC7JJV</th>\n",
       "      <td>0</td>\n",
       "      <td>0</td>\n",
       "      <td>0</td>\n",
       "      <td>0</td>\n",
       "      <td>0</td>\n",
       "      <td>0</td>\n",
       "      <td>0</td>\n",
       "      <td>0</td>\n",
       "      <td>0</td>\n",
       "      <td>0</td>\n",
       "      <td>...</td>\n",
       "      <td>0</td>\n",
       "      <td>0</td>\n",
       "      <td>0</td>\n",
       "      <td>0</td>\n",
       "      <td>0</td>\n",
       "      <td>0</td>\n",
       "      <td>0</td>\n",
       "      <td>0</td>\n",
       "      <td>0</td>\n",
       "      <td>0</td>\n",
       "    </tr>\n",
       "    <tr>\n",
       "      <th>A06174592MTVZB543AWIL</th>\n",
       "      <td>0</td>\n",
       "      <td>0</td>\n",
       "      <td>0</td>\n",
       "      <td>0</td>\n",
       "      <td>0</td>\n",
       "      <td>0</td>\n",
       "      <td>0</td>\n",
       "      <td>0</td>\n",
       "      <td>0</td>\n",
       "      <td>0</td>\n",
       "      <td>...</td>\n",
       "      <td>0</td>\n",
       "      <td>0</td>\n",
       "      <td>0</td>\n",
       "      <td>0</td>\n",
       "      <td>0</td>\n",
       "      <td>0</td>\n",
       "      <td>0</td>\n",
       "      <td>0</td>\n",
       "      <td>0</td>\n",
       "      <td>0</td>\n",
       "    </tr>\n",
       "    <tr>\n",
       "      <th>A07214112JYAGD73ZLP66</th>\n",
       "      <td>0</td>\n",
       "      <td>0</td>\n",
       "      <td>0</td>\n",
       "      <td>0</td>\n",
       "      <td>0</td>\n",
       "      <td>0</td>\n",
       "      <td>0</td>\n",
       "      <td>0</td>\n",
       "      <td>0</td>\n",
       "      <td>0</td>\n",
       "      <td>...</td>\n",
       "      <td>0</td>\n",
       "      <td>0</td>\n",
       "      <td>0</td>\n",
       "      <td>0</td>\n",
       "      <td>0</td>\n",
       "      <td>0</td>\n",
       "      <td>0</td>\n",
       "      <td>0</td>\n",
       "      <td>0</td>\n",
       "      <td>0</td>\n",
       "    </tr>\n",
       "  </tbody>\n",
       "</table>\n",
       "<p>5 rows × 4374 columns</p>\n",
       "</div>"
      ],
      "text/plain": [
       "productId              0972683275  1400532655  140053271X  B00000DM9W  \\\n",
       "userId                                                                  \n",
       "A01682761RQSOIBP1TBDQ           0           0           0           0   \n",
       "A0315967143HDB8UXWN72           0           0           0           0   \n",
       "A0611551KU79JNSC7JJV            0           0           0           0   \n",
       "A06174592MTVZB543AWIL           0           0           0           0   \n",
       "A07214112JYAGD73ZLP66           0           0           0           0   \n",
       "\n",
       "productId              B00000J061  B00000J1V5  B00000JDF5  B00000JI4F  \\\n",
       "userId                                                                  \n",
       "A01682761RQSOIBP1TBDQ           0           0           0           0   \n",
       "A0315967143HDB8UXWN72           0           0           0           0   \n",
       "A0611551KU79JNSC7JJV            0           0           0           0   \n",
       "A06174592MTVZB543AWIL           0           0           0           0   \n",
       "A07214112JYAGD73ZLP66           0           0           0           0   \n",
       "\n",
       "productId              B00000K135  B00000K2YR  ...  B00I2VIR2M  B00I2ZBD1U  \\\n",
       "userId                                         ...                           \n",
       "A01682761RQSOIBP1TBDQ           0           0  ...           0           0   \n",
       "A0315967143HDB8UXWN72           0           0  ...           0           0   \n",
       "A0611551KU79JNSC7JJV            0           0  ...           0           0   \n",
       "A06174592MTVZB543AWIL           0           0  ...           0           0   \n",
       "A07214112JYAGD73ZLP66           0           0  ...           0           0   \n",
       "\n",
       "productId              B00I94IPTW  B00I9K3ZQ4  B00IDG3IDO  B00IF70QCW  \\\n",
       "userId                                                                  \n",
       "A01682761RQSOIBP1TBDQ           0           0           0           0   \n",
       "A0315967143HDB8UXWN72           0           0           0           0   \n",
       "A0611551KU79JNSC7JJV            0           0           0           0   \n",
       "A06174592MTVZB543AWIL           0           0           0           0   \n",
       "A07214112JYAGD73ZLP66           0           0           0           0   \n",
       "\n",
       "productId              B00IGISO9C  B00INNP5VU  B00IO1V33U  B00IVPU786  \n",
       "userId                                                                 \n",
       "A01682761RQSOIBP1TBDQ           0           0           0           0  \n",
       "A0315967143HDB8UXWN72           0           0           0           0  \n",
       "A0611551KU79JNSC7JJV            0           0           0           0  \n",
       "A06174592MTVZB543AWIL           0           0           0           0  \n",
       "A07214112JYAGD73ZLP66           0           0           0           0  \n",
       "\n",
       "[5 rows x 4374 columns]"
      ]
     },
     "execution_count": 43,
     "metadata": {},
     "output_type": "execute_result"
    }
   ],
   "source": [
    "data2=data.sample(20000)\n",
    "ratings_matrix = data2.pivot_table(values='rating', index='userId', columns='productId', fill_value=0)\n",
    "ratings_matrix.head()"
   ]
  },
  {
   "cell_type": "code",
   "execution_count": 44,
   "id": "9317437a",
   "metadata": {},
   "outputs": [
    {
     "data": {
      "text/plain": [
       "(19874, 4374)"
      ]
     },
     "execution_count": 44,
     "metadata": {},
     "output_type": "execute_result"
    }
   ],
   "source": [
    "#check the shape of the rating_matrix\n",
    "ratings_matrix.shape"
   ]
  },
  {
   "cell_type": "code",
   "execution_count": 45,
   "id": "4a689611",
   "metadata": {},
   "outputs": [
    {
     "data": {
      "text/html": [
       "<div>\n",
       "<style scoped>\n",
       "    .dataframe tbody tr th:only-of-type {\n",
       "        vertical-align: middle;\n",
       "    }\n",
       "\n",
       "    .dataframe tbody tr th {\n",
       "        vertical-align: top;\n",
       "    }\n",
       "\n",
       "    .dataframe thead th {\n",
       "        text-align: right;\n",
       "    }\n",
       "</style>\n",
       "<table border=\"1\" class=\"dataframe\">\n",
       "  <thead>\n",
       "    <tr style=\"text-align: right;\">\n",
       "      <th>userId</th>\n",
       "      <th>A01682761RQSOIBP1TBDQ</th>\n",
       "      <th>A0315967143HDB8UXWN72</th>\n",
       "      <th>A0611551KU79JNSC7JJV</th>\n",
       "      <th>A06174592MTVZB543AWIL</th>\n",
       "      <th>A07214112JYAGD73ZLP66</th>\n",
       "      <th>A07711673FJ9VZJW7JGDG</th>\n",
       "      <th>A0791524DCIZVYY8L45Y</th>\n",
       "      <th>A0803614U3XOWRAUWKV4</th>\n",
       "      <th>A08696792UO12KEF85A77</th>\n",
       "      <th>A08871831JFLDQ8W8RJ8Y</th>\n",
       "      <th>...</th>\n",
       "      <th>AZXF2TE7DYEZL</th>\n",
       "      <th>AZXI3IO31YIE6</th>\n",
       "      <th>AZXUG1ZIWI9Q7</th>\n",
       "      <th>AZY2BZO67897H</th>\n",
       "      <th>AZY5WADV3UWQU</th>\n",
       "      <th>AZYI439ZVBO6J</th>\n",
       "      <th>AZYUW427M590I</th>\n",
       "      <th>AZZNCDET9KBTO</th>\n",
       "      <th>AZZSGHRZ7MMXP</th>\n",
       "      <th>AZZUIE66HZNY1</th>\n",
       "    </tr>\n",
       "    <tr>\n",
       "      <th>productId</th>\n",
       "      <th></th>\n",
       "      <th></th>\n",
       "      <th></th>\n",
       "      <th></th>\n",
       "      <th></th>\n",
       "      <th></th>\n",
       "      <th></th>\n",
       "      <th></th>\n",
       "      <th></th>\n",
       "      <th></th>\n",
       "      <th></th>\n",
       "      <th></th>\n",
       "      <th></th>\n",
       "      <th></th>\n",
       "      <th></th>\n",
       "      <th></th>\n",
       "      <th></th>\n",
       "      <th></th>\n",
       "      <th></th>\n",
       "      <th></th>\n",
       "      <th></th>\n",
       "    </tr>\n",
       "  </thead>\n",
       "  <tbody>\n",
       "    <tr>\n",
       "      <th>0972683275</th>\n",
       "      <td>0</td>\n",
       "      <td>0</td>\n",
       "      <td>0</td>\n",
       "      <td>0</td>\n",
       "      <td>0</td>\n",
       "      <td>0</td>\n",
       "      <td>0</td>\n",
       "      <td>0</td>\n",
       "      <td>0</td>\n",
       "      <td>0</td>\n",
       "      <td>...</td>\n",
       "      <td>0</td>\n",
       "      <td>0</td>\n",
       "      <td>0</td>\n",
       "      <td>0</td>\n",
       "      <td>0</td>\n",
       "      <td>0</td>\n",
       "      <td>0</td>\n",
       "      <td>0</td>\n",
       "      <td>0</td>\n",
       "      <td>0</td>\n",
       "    </tr>\n",
       "    <tr>\n",
       "      <th>1400532655</th>\n",
       "      <td>0</td>\n",
       "      <td>0</td>\n",
       "      <td>0</td>\n",
       "      <td>0</td>\n",
       "      <td>0</td>\n",
       "      <td>0</td>\n",
       "      <td>0</td>\n",
       "      <td>0</td>\n",
       "      <td>0</td>\n",
       "      <td>0</td>\n",
       "      <td>...</td>\n",
       "      <td>0</td>\n",
       "      <td>0</td>\n",
       "      <td>0</td>\n",
       "      <td>0</td>\n",
       "      <td>0</td>\n",
       "      <td>0</td>\n",
       "      <td>0</td>\n",
       "      <td>0</td>\n",
       "      <td>0</td>\n",
       "      <td>0</td>\n",
       "    </tr>\n",
       "    <tr>\n",
       "      <th>140053271X</th>\n",
       "      <td>0</td>\n",
       "      <td>0</td>\n",
       "      <td>0</td>\n",
       "      <td>0</td>\n",
       "      <td>0</td>\n",
       "      <td>0</td>\n",
       "      <td>0</td>\n",
       "      <td>0</td>\n",
       "      <td>0</td>\n",
       "      <td>0</td>\n",
       "      <td>...</td>\n",
       "      <td>0</td>\n",
       "      <td>0</td>\n",
       "      <td>0</td>\n",
       "      <td>0</td>\n",
       "      <td>0</td>\n",
       "      <td>0</td>\n",
       "      <td>0</td>\n",
       "      <td>0</td>\n",
       "      <td>0</td>\n",
       "      <td>0</td>\n",
       "    </tr>\n",
       "    <tr>\n",
       "      <th>B00000DM9W</th>\n",
       "      <td>0</td>\n",
       "      <td>0</td>\n",
       "      <td>0</td>\n",
       "      <td>0</td>\n",
       "      <td>0</td>\n",
       "      <td>0</td>\n",
       "      <td>0</td>\n",
       "      <td>0</td>\n",
       "      <td>0</td>\n",
       "      <td>0</td>\n",
       "      <td>...</td>\n",
       "      <td>0</td>\n",
       "      <td>0</td>\n",
       "      <td>0</td>\n",
       "      <td>0</td>\n",
       "      <td>0</td>\n",
       "      <td>0</td>\n",
       "      <td>0</td>\n",
       "      <td>0</td>\n",
       "      <td>0</td>\n",
       "      <td>0</td>\n",
       "    </tr>\n",
       "    <tr>\n",
       "      <th>B00000J061</th>\n",
       "      <td>0</td>\n",
       "      <td>0</td>\n",
       "      <td>0</td>\n",
       "      <td>0</td>\n",
       "      <td>0</td>\n",
       "      <td>0</td>\n",
       "      <td>0</td>\n",
       "      <td>0</td>\n",
       "      <td>0</td>\n",
       "      <td>0</td>\n",
       "      <td>...</td>\n",
       "      <td>0</td>\n",
       "      <td>0</td>\n",
       "      <td>0</td>\n",
       "      <td>0</td>\n",
       "      <td>0</td>\n",
       "      <td>0</td>\n",
       "      <td>0</td>\n",
       "      <td>0</td>\n",
       "      <td>0</td>\n",
       "      <td>0</td>\n",
       "    </tr>\n",
       "  </tbody>\n",
       "</table>\n",
       "<p>5 rows × 19874 columns</p>\n",
       "</div>"
      ],
      "text/plain": [
       "userId      A01682761RQSOIBP1TBDQ  A0315967143HDB8UXWN72  \\\n",
       "productId                                                  \n",
       "0972683275                      0                      0   \n",
       "1400532655                      0                      0   \n",
       "140053271X                      0                      0   \n",
       "B00000DM9W                      0                      0   \n",
       "B00000J061                      0                      0   \n",
       "\n",
       "userId      A0611551KU79JNSC7JJV  A06174592MTVZB543AWIL  \\\n",
       "productId                                                 \n",
       "0972683275                     0                      0   \n",
       "1400532655                     0                      0   \n",
       "140053271X                     0                      0   \n",
       "B00000DM9W                     0                      0   \n",
       "B00000J061                     0                      0   \n",
       "\n",
       "userId      A07214112JYAGD73ZLP66  A07711673FJ9VZJW7JGDG  \\\n",
       "productId                                                  \n",
       "0972683275                      0                      0   \n",
       "1400532655                      0                      0   \n",
       "140053271X                      0                      0   \n",
       "B00000DM9W                      0                      0   \n",
       "B00000J061                      0                      0   \n",
       "\n",
       "userId      A0791524DCIZVYY8L45Y  A0803614U3XOWRAUWKV4  A08696792UO12KEF85A77  \\\n",
       "productId                                                                       \n",
       "0972683275                     0                     0                      0   \n",
       "1400532655                     0                     0                      0   \n",
       "140053271X                     0                     0                      0   \n",
       "B00000DM9W                     0                     0                      0   \n",
       "B00000J061                     0                     0                      0   \n",
       "\n",
       "userId      A08871831JFLDQ8W8RJ8Y  ...  AZXF2TE7DYEZL  AZXI3IO31YIE6  \\\n",
       "productId                          ...                                 \n",
       "0972683275                      0  ...              0              0   \n",
       "1400532655                      0  ...              0              0   \n",
       "140053271X                      0  ...              0              0   \n",
       "B00000DM9W                      0  ...              0              0   \n",
       "B00000J061                      0  ...              0              0   \n",
       "\n",
       "userId      AZXUG1ZIWI9Q7  AZY2BZO67897H  AZY5WADV3UWQU  AZYI439ZVBO6J  \\\n",
       "productId                                                                \n",
       "0972683275              0              0              0              0   \n",
       "1400532655              0              0              0              0   \n",
       "140053271X              0              0              0              0   \n",
       "B00000DM9W              0              0              0              0   \n",
       "B00000J061              0              0              0              0   \n",
       "\n",
       "userId      AZYUW427M590I  AZZNCDET9KBTO  AZZSGHRZ7MMXP  AZZUIE66HZNY1  \n",
       "productId                                                               \n",
       "0972683275              0              0              0              0  \n",
       "1400532655              0              0              0              0  \n",
       "140053271X              0              0              0              0  \n",
       "B00000DM9W              0              0              0              0  \n",
       "B00000J061              0              0              0              0  \n",
       "\n",
       "[5 rows x 19874 columns]"
      ]
     },
     "execution_count": 45,
     "metadata": {},
     "output_type": "execute_result"
    }
   ],
   "source": [
    "#transpose the metrix to make column (productId) as index and index as column (userId)\n",
    "x_ratings_matrix=ratings_matrix.T\n",
    "x_ratings_matrix.head()"
   ]
  },
  {
   "cell_type": "code",
   "execution_count": 46,
   "id": "0de9ab15",
   "metadata": {},
   "outputs": [
    {
     "data": {
      "text/plain": [
       "(4374, 19874)"
      ]
     },
     "execution_count": 46,
     "metadata": {},
     "output_type": "execute_result"
    }
   ],
   "source": [
    "x_ratings_matrix.shape"
   ]
  },
  {
   "cell_type": "code",
   "execution_count": 47,
   "id": "810149fe",
   "metadata": {},
   "outputs": [
    {
     "data": {
      "text/plain": [
       "(4374, 10)"
      ]
     },
     "execution_count": 47,
     "metadata": {},
     "output_type": "execute_result"
    }
   ],
   "source": [
    "#Decomposition of the matrix using Singular Value Decomposition technique\n",
    "from sklearn.decomposition import TruncatedSVD\n",
    "SVD = TruncatedSVD(n_components=10)\n",
    "decomposed_matrix = SVD.fit_transform(x_ratings_matrix)\n",
    "decomposed_matrix.shape"
   ]
  },
  {
   "cell_type": "code",
   "execution_count": 48,
   "id": "4366b000",
   "metadata": {},
   "outputs": [
    {
     "data": {
      "text/plain": [
       "(4374, 4374)"
      ]
     },
     "execution_count": 48,
     "metadata": {},
     "output_type": "execute_result"
    }
   ],
   "source": [
    "#Correlation Matrix\n",
    "correlation_matrix = np.corrcoef(decomposed_matrix)\n",
    "correlation_matrix.shape"
   ]
  },
  {
   "cell_type": "code",
   "execution_count": 49,
   "id": "131341bf",
   "metadata": {},
   "outputs": [
    {
     "data": {
      "text/plain": [
       "'B00001P4XA'"
      ]
     },
     "execution_count": 49,
     "metadata": {},
     "output_type": "execute_result"
    }
   ],
   "source": [
    "x_ratings_matrix.index[10]"
   ]
  },
  {
   "cell_type": "code",
   "execution_count": 50,
   "id": "799a999f",
   "metadata": {},
   "outputs": [
    {
     "name": "stdout",
     "output_type": "stream",
     "text": [
      "12\n"
     ]
    }
   ],
   "source": [
    "i=\"B00001P4ZH\"\n",
    "product_names=list(x_ratings_matrix.index)\n",
    "product_id=product_names.index(i)\n",
    "print(product_id)"
   ]
  },
  {
   "cell_type": "code",
   "execution_count": 51,
   "id": "2aeafca9",
   "metadata": {},
   "outputs": [
    {
     "data": {
      "text/plain": [
       "(4374,)"
      ]
     },
     "execution_count": 51,
     "metadata": {},
     "output_type": "execute_result"
    }
   ],
   "source": [
    "correlation_product_ID = correlation_matrix[product_id]\n",
    "correlation_product_ID.shape"
   ]
  },
  {
   "cell_type": "code",
   "execution_count": 52,
   "id": "f75a6d94",
   "metadata": {},
   "outputs": [
    {
     "data": {
      "text/plain": [
       "(356, 4374)"
      ]
     },
     "execution_count": 52,
     "metadata": {},
     "output_type": "execute_result"
    }
   ],
   "source": [
    "correlation_matrix[correlation_product_ID>0.75].shape"
   ]
  },
  {
   "cell_type": "code",
   "execution_count": 53,
   "id": "e84994ba",
   "metadata": {},
   "outputs": [
    {
     "data": {
      "text/plain": [
       "['B00001P4ZH',\n",
       " 'B00001P4ZR',\n",
       " 'B00004Z5D1',\n",
       " 'B00004ZCKV',\n",
       " 'B000058BCQ',\n",
       " 'B00006HOLO',\n",
       " 'B00007056H',\n",
       " 'B000075UZ7',\n",
       " 'B00009V332',\n",
       " 'B0000AI0N1',\n",
       " 'B0000AZK0D',\n",
       " 'B0000BZOGJ',\n",
       " 'B0000VYJRY',\n",
       " 'B0001A3N6C',\n",
       " 'B0001MQSB2',\n",
       " 'B0001VWHH2',\n",
       " 'B0001Y7UAI',\n",
       " 'B000204SWE',\n",
       " 'B00028ONIA',\n",
       " 'B00028VKLI']"
      ]
     },
     "execution_count": 53,
     "metadata": {},
     "output_type": "execute_result"
    }
   ],
   "source": [
    "#Recommending top 20 highly correlated products in sequence\n",
    "recommend = list(x_ratings_matrix.index[correlation_product_ID > 0.75])\n",
    "recommend[:20]"
   ]
  },
  {
   "cell_type": "code",
   "execution_count": null,
   "id": "4a77f952",
   "metadata": {},
   "outputs": [],
   "source": []
  }
 ],
 "metadata": {
  "kernelspec": {
   "display_name": "Python 3 (ipykernel)",
   "language": "python",
   "name": "python3"
  },
  "language_info": {
   "codemirror_mode": {
    "name": "ipython",
    "version": 3
   },
   "file_extension": ".py",
   "mimetype": "text/x-python",
   "name": "python",
   "nbconvert_exporter": "python",
   "pygments_lexer": "ipython3",
   "version": "3.11.5"
  }
 },
 "nbformat": 4,
 "nbformat_minor": 5
}
